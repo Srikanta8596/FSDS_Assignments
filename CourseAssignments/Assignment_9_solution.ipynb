{
 "cells": [
  {
   "cell_type": "markdown",
   "id": "bf5f3ba7",
   "metadata": {},
   "source": [
    "1. To what does a relative path refer?"
   ]
  },
  {
   "cell_type": "markdown",
   "id": "a8a13ec7",
   "metadata": {},
   "source": [
    "- A relative path in Python is a path that describes the location of a directory relative to the entry point where you run the Python script.\n",
    "- Example: /, ./ or ../\n",
    "- We can say it is refer  to the home directory\n",
    "    "
   ]
  },
  {
   "cell_type": "markdown",
   "id": "f6b2318d",
   "metadata": {},
   "source": [
    "2. What does an absolute path start with your operating system?"
   ]
  },
  {
   "cell_type": "markdown",
   "id": "77783dad",
   "metadata": {},
   "source": [
    "- I starts with root folder like / or C:\\"
   ]
  },
  {
   "cell_type": "markdown",
   "id": "d29a7508",
   "metadata": {},
   "source": [
    "3. What do the functions os.getcwd() and os.chdir() do?"
   ]
  },
  {
   "cell_type": "markdown",
   "id": "74347384",
   "metadata": {},
   "source": [
    "- os.getcwd() method returns current wokring directory\n",
    "- os.chdir() method is used to change the current working directory to specified path."
   ]
  },
  {
   "cell_type": "markdown",
   "id": "48bcbcb4",
   "metadata": {},
   "source": [
    "4. What are the . and .. folders?"
   ]
  },
  {
   "cell_type": "markdown",
   "id": "ee48fd42",
   "metadata": {},
   "source": [
    "- . folder is the current folder, and .. is the parent folder."
   ]
  },
  {
   "cell_type": "markdown",
   "id": "e42d4b83",
   "metadata": {},
   "source": [
    "5. In C:\\bacon\\eggs\\spam.txt, which part is the dir name, and which part is the base name?"
   ]
  },
  {
   "cell_type": "markdown",
   "id": "bbf18d96",
   "metadata": {},
   "source": [
    "- C:\\bacon\\eggs is the dir name, spam.txt is the base name"
   ]
  },
  {
   "cell_type": "markdown",
   "id": "15f11287",
   "metadata": {},
   "source": [
    "6. What are the three “mode” arguments that can be passed to the open() function?"
   ]
  },
  {
   "cell_type": "markdown",
   "id": "236dbd65",
   "metadata": {},
   "source": [
    "- 'r' for read mode, 'w' for write mode, 'a' for append mode"
   ]
  },
  {
   "cell_type": "markdown",
   "id": "4d8e00b7",
   "metadata": {},
   "source": [
    "7. What happens if an existing file is opened in write mode?"
   ]
  },
  {
   "cell_type": "markdown",
   "id": "489b9aa1",
   "metadata": {},
   "source": [
    "- Creates a new file if it does not exist or truncates the file if it exists."
   ]
  },
  {
   "cell_type": "markdown",
   "id": "a4967ec9",
   "metadata": {},
   "source": [
    "8. How do you tell the difference between read() and readlines()?"
   ]
  },
  {
   "cell_type": "markdown",
   "id": "d8f6be05",
   "metadata": {},
   "source": [
    "- read() reads the entire contents of the file into a string.\n",
    "- readlines, which returns a list of lines"
   ]
  },
  {
   "cell_type": "markdown",
   "id": "ea263343",
   "metadata": {},
   "source": [
    "9. What data structure does a shelf value resemble"
   ]
  },
  {
   "cell_type": "markdown",
   "id": "9c449936",
   "metadata": {},
   "source": [
    "- A shelf value resembles a dictionary value; it has keys and values, along with keys() and values() methods that work similarly to the dictionary methods of the same names."
   ]
  },
  {
   "cell_type": "code",
   "execution_count": 5,
   "id": "72e8f92d",
   "metadata": {},
   "outputs": [],
   "source": [
    "# Example\n",
    "# import os\n",
    "\n",
    "# absolute_path = os.path.dirname(__file__)\n",
    "# relative_path = \"src/lib\"\n",
    "# full_path = os.path.join(absolute_path, relative_path)"
   ]
  },
  {
   "cell_type": "code",
   "execution_count": null,
   "id": "14de89f6",
   "metadata": {},
   "outputs": [],
   "source": []
  }
 ],
 "metadata": {
  "kernelspec": {
   "display_name": "Python 3 (ipykernel)",
   "language": "python",
   "name": "python3"
  },
  "language_info": {
   "codemirror_mode": {
    "name": "ipython",
    "version": 3
   },
   "file_extension": ".py",
   "mimetype": "text/x-python",
   "name": "python",
   "nbconvert_exporter": "python",
   "pygments_lexer": "ipython3",
   "version": "3.9.12"
  }
 },
 "nbformat": 4,
 "nbformat_minor": 5
}
