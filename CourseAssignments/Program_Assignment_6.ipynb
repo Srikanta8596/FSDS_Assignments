{
 "cells": [
  {
   "cell_type": "markdown",
   "id": "e34a7781",
   "metadata": {},
   "source": [
    "1. Write a Python Program to Display Fibonacci Sequence Using Recursion?"
   ]
  },
  {
   "cell_type": "code",
   "execution_count": 19,
   "id": "bc97d414",
   "metadata": {},
   "outputs": [
    {
     "name": "stdout",
     "output_type": "stream",
     "text": [
      "Enter the number: 10\n",
      "Fibonacci sequence:\n",
      "0\n",
      "1\n",
      "1\n",
      "2\n",
      "3\n",
      "5\n",
      "8\n",
      "13\n",
      "21\n",
      "34\n"
     ]
    }
   ],
   "source": [
    "num = int(input(\"Enter the number: \"))\n",
    "def fibo(num):\n",
    "    if num<=1:\n",
    "        return num\n",
    "    else:\n",
    "        return (fibo(num-1)+fibo(num-2))\n",
    "if num<0:\n",
    "    print(\"Enter a negative number\")\n",
    "else:\n",
    "    print(\"Fibonacci sequence:\")\n",
    "    for i in range(num):\n",
    "        print(fibo(i))"
   ]
  },
  {
   "cell_type": "markdown",
   "id": "d36e21dd",
   "metadata": {},
   "source": [
    "2. Write a Python Program to Find Factorial of Number Using Recursion?"
   ]
  },
  {
   "cell_type": "code",
   "execution_count": 12,
   "id": "fa2a0b1e",
   "metadata": {},
   "outputs": [
    {
     "name": "stdout",
     "output_type": "stream",
     "text": [
      "Enter the number: 5\n"
     ]
    },
    {
     "data": {
      "text/plain": [
       "120"
      ]
     },
     "execution_count": 12,
     "metadata": {},
     "output_type": "execute_result"
    }
   ],
   "source": [
    "num = int(input(\"Enter the number: \"))\n",
    "def fact(n):\n",
    "    if n==1:\n",
    "        return n\n",
    "    else:\n",
    "        return n*fact(n-1)\n",
    "fact(num)"
   ]
  },
  {
   "cell_type": "markdown",
   "id": "125c7de7",
   "metadata": {},
   "source": [
    "3. Write a Python Program to calculate your Body Mass Index"
   ]
  },
  {
   "cell_type": "code",
   "execution_count": 5,
   "id": "dcdd0934",
   "metadata": {},
   "outputs": [
    {
     "name": "stdout",
     "output_type": "stream",
     "text": [
      "Enter the height in cm: 152\n",
      "Enter the height in kg: 60\n"
     ]
    },
    {
     "data": {
      "text/plain": [
       "25.969529085872576"
      ]
     },
     "execution_count": 5,
     "metadata": {},
     "output_type": "execute_result"
    }
   ],
   "source": [
    "height = int(input(\"Enter the height in cm: \"))\n",
    "weight = int(input(\"Enter the height in kg: \"))\n",
    "def BMI(height,weight):\n",
    "    return weight/((height/100)**2)\n",
    "BMI(height,weight)"
   ]
  },
  {
   "cell_type": "markdown",
   "id": "9bca3943",
   "metadata": {},
   "source": [
    "4. Write a Python Program to calculate the natural logarithm of any number"
   ]
  },
  {
   "cell_type": "code",
   "execution_count": 1,
   "id": "cb40a3ad",
   "metadata": {},
   "outputs": [
    {
     "data": {
      "text/plain": [
       "1.0"
      ]
     },
     "execution_count": 1,
     "metadata": {},
     "output_type": "execute_result"
    }
   ],
   "source": [
    "import numpy as np\n",
    "def naturalLog(num):\n",
    "    return np.log(num)\n",
    "e=np.e\n",
    "naturalLog(e)"
   ]
  },
  {
   "cell_type": "markdown",
   "id": "47ede469",
   "metadata": {},
   "source": [
    "5. Write a Python Program for cube sum of first n natural numbers?"
   ]
  },
  {
   "cell_type": "code",
   "execution_count": 2,
   "id": "f5ecd18b",
   "metadata": {},
   "outputs": [
    {
     "name": "stdout",
     "output_type": "stream",
     "text": [
      "Enter the number: 5\n"
     ]
    },
    {
     "data": {
      "text/plain": [
       "225"
      ]
     },
     "execution_count": 2,
     "metadata": {},
     "output_type": "execute_result"
    }
   ],
   "source": [
    "num = int(input(\"Enter the number: \"))\n",
    "def cubSumNaturalNumber(num):\n",
    "    sum=0\n",
    "    for i in range(num+1):\n",
    "        sum+=(i*i*i)\n",
    "    return sum\n",
    "cubSumNaturalNumber(num)"
   ]
  },
  {
   "cell_type": "code",
   "execution_count": null,
   "id": "6aefa557",
   "metadata": {},
   "outputs": [],
   "source": []
  }
 ],
 "metadata": {
  "kernelspec": {
   "display_name": "Python 3 (ipykernel)",
   "language": "python",
   "name": "python3"
  },
  "language_info": {
   "codemirror_mode": {
    "name": "ipython",
    "version": 3
   },
   "file_extension": ".py",
   "mimetype": "text/x-python",
   "name": "python",
   "nbconvert_exporter": "python",
   "pygments_lexer": "ipython3",
   "version": "3.9.13"
  }
 },
 "nbformat": 4,
 "nbformat_minor": 5
}
