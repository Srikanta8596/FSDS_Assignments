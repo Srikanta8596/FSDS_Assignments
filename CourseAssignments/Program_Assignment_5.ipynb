{
 "cells": [
  {
   "cell_type": "markdown",
   "id": "2db4573e",
   "metadata": {},
   "source": [
    "1.\tWrite a Python Program to Find LCM?\n",
    "2.\tWrite a Python Program to Find HCF?"
   ]
  },
  {
   "cell_type": "code",
   "execution_count": 14,
   "id": "a2e0be26",
   "metadata": {},
   "outputs": [],
   "source": [
    "import math\n",
    "def lcm(*args):\n",
    "    return math.lcm(*args)\n",
    "def hcf(*args):\n",
    "    return math.gcd(*args)"
   ]
  },
  {
   "cell_type": "code",
   "execution_count": 16,
   "id": "ccd78512",
   "metadata": {},
   "outputs": [
    {
     "data": {
      "text/plain": [
       "12"
      ]
     },
     "execution_count": 16,
     "metadata": {},
     "output_type": "execute_result"
    }
   ],
   "source": [
    "lcm(2,3,4)"
   ]
  },
  {
   "cell_type": "code",
   "execution_count": 15,
   "id": "0b734c62",
   "metadata": {},
   "outputs": [
    {
     "data": {
      "text/plain": [
       "1"
      ]
     },
     "execution_count": 15,
     "metadata": {},
     "output_type": "execute_result"
    }
   ],
   "source": [
    "hcf(2,3,4)"
   ]
  },
  {
   "cell_type": "markdown",
   "id": "ccac1e79",
   "metadata": {},
   "source": [
    "3.\tWrite a Python Program to Convert Decimal to Binary, Octal and Hexadecimal?"
   ]
  },
  {
   "cell_type": "code",
   "execution_count": 19,
   "id": "60419d49",
   "metadata": {},
   "outputs": [
    {
     "name": "stdout",
     "output_type": "stream",
     "text": [
      "Enter a decimal Number: 344\n",
      "The decimal value of 344 is:\n",
      "0b101011000 in binary.\n",
      "0o530 in octal.\n",
      "0x158 in hexadecimal.\n"
     ]
    }
   ],
   "source": [
    "dec = 344\n",
    "dec=int(input(\"Enter a decimal Number: \"))\n",
    "print(\"The decimal value of\", dec, \"is:\")\n",
    "print(bin(dec), \"in binary.\")\n",
    "print(oct(dec), \"in octal.\")\n",
    "print(hex(dec), \"in hexadecimal.\")"
   ]
  },
  {
   "cell_type": "markdown",
   "id": "4ed652c7",
   "metadata": {},
   "source": [
    "4.\tWrite a Python Program to Find ASCII value of a character?"
   ]
  },
  {
   "cell_type": "code",
   "execution_count": 20,
   "id": "642d295d",
   "metadata": {},
   "outputs": [
    {
     "name": "stdout",
     "output_type": "stream",
     "text": [
      "Enter the character: g\n",
      "The ASCII value of 'g' is 103\n"
     ]
    }
   ],
   "source": [
    "c = input(\"Enter the character: \")\n",
    "print(\"The ASCII value of '\" + c + \"' is\", ord(c))"
   ]
  },
  {
   "cell_type": "markdown",
   "id": "4c83d82f",
   "metadata": {},
   "source": [
    "5.\tWrite a Python Program to Make a Simple Calculator with 4 basic mathematical operations?"
   ]
  },
  {
   "cell_type": "code",
   "execution_count": 41,
   "id": "14c7f680",
   "metadata": {},
   "outputs": [],
   "source": [
    "def calculator(operator,*args):\n",
    "    if operator== '+':\n",
    "        sum_=0\n",
    "        for val in args:\n",
    "            sum_+=val\n",
    "        return sum_\n",
    "    if operator== '-':\n",
    "        x,y=args\n",
    "        sub_=x-y\n",
    "        return sub_\n",
    "    if operator== '/':\n",
    "        sub_=0\n",
    "        x,y=args\n",
    "        return x/y\n",
    "    if operator== '*':\n",
    "        mult_=1\n",
    "        for val in args:\n",
    "            mult_*=val\n",
    "        return mult_"
   ]
  },
  {
   "cell_type": "code",
   "execution_count": 42,
   "id": "127bf4b1",
   "metadata": {},
   "outputs": [
    {
     "data": {
      "text/plain": [
       "27"
      ]
     },
     "execution_count": 42,
     "metadata": {},
     "output_type": "execute_result"
    }
   ],
   "source": [
    "calculator('+',2,3,4,5,6,7)"
   ]
  },
  {
   "cell_type": "code",
   "execution_count": 43,
   "id": "41e1ea22",
   "metadata": {},
   "outputs": [
    {
     "data": {
      "text/plain": [
       "-3"
      ]
     },
     "execution_count": 43,
     "metadata": {},
     "output_type": "execute_result"
    }
   ],
   "source": [
    "calculator('-',2,5)"
   ]
  },
  {
   "cell_type": "code",
   "execution_count": 44,
   "id": "277343a7",
   "metadata": {},
   "outputs": [
    {
     "data": {
      "text/plain": [
       "0.4"
      ]
     },
     "execution_count": 44,
     "metadata": {},
     "output_type": "execute_result"
    }
   ],
   "source": [
    "calculator('/',2,5)"
   ]
  },
  {
   "cell_type": "code",
   "execution_count": 46,
   "id": "0fe222bc",
   "metadata": {},
   "outputs": [
    {
     "data": {
      "text/plain": [
       "250"
      ]
     },
     "execution_count": 46,
     "metadata": {},
     "output_type": "execute_result"
    }
   ],
   "source": [
    "calculator('*',2,5,5,5)"
   ]
  },
  {
   "cell_type": "code",
   "execution_count": 21,
   "id": "3614162b",
   "metadata": {},
   "outputs": [
    {
     "ename": "SyntaxError",
     "evalue": "invalid syntax (2942187358.py, line 2)",
     "output_type": "error",
     "traceback": [
      "\u001b[1;36m  Cell \u001b[1;32mIn[21], line 2\u001b[1;36m\u001b[0m\n\u001b[1;33m    match operator:\u001b[0m\n\u001b[1;37m          ^\u001b[0m\n\u001b[1;31mSyntaxError\u001b[0m\u001b[1;31m:\u001b[0m invalid syntax\n"
     ]
    }
   ],
   "source": [
    "#match is available for python 3.11\n",
    "def calculator(operator,*args):\n",
    "    match operator:\n",
    "        case '+':\n",
    "            sum_=0\n",
    "            for val in arg:\n",
    "                sum_+=value\n",
    "                return sum_\n",
    "        case '-':\n",
    "            sub_=0\n",
    "            for val in arg:\n",
    "                sub_-=value\n",
    "                return sub_\n",
    "        case '/':\n",
    "            sub_=0\n",
    "            x,y=arg\n",
    "            return x/y\n",
    "        case '*':\n",
    "            for val in arg:\n",
    "                mult_*=value\n",
    "                return mult_"
   ]
  },
  {
   "cell_type": "code",
   "execution_count": null,
   "id": "1a7a0da5",
   "metadata": {},
   "outputs": [],
   "source": []
  }
 ],
 "metadata": {
  "kernelspec": {
   "display_name": "Python 3 (ipykernel)",
   "language": "python",
   "name": "python3"
  },
  "language_info": {
   "codemirror_mode": {
    "name": "ipython",
    "version": 3
   },
   "file_extension": ".py",
   "mimetype": "text/x-python",
   "name": "python",
   "nbconvert_exporter": "python",
   "pygments_lexer": "ipython3",
   "version": "3.9.13"
  }
 },
 "nbformat": 4,
 "nbformat_minor": 5
}
