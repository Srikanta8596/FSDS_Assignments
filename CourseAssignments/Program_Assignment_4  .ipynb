{
 "cells": [
  {
   "cell_type": "markdown",
   "id": "a6db4498",
   "metadata": {},
   "source": [
    "1. Write a Python Program to Find the Factorial of a Number?\n",
    "- n! = n * n-1 * n-2 * n-3 * ..... * 1"
   ]
  },
  {
   "cell_type": "code",
   "execution_count": 14,
   "id": "cdb6f81d",
   "metadata": {},
   "outputs": [
    {
     "name": "stdout",
     "output_type": "stream",
     "text": [
      "Enter a number: 5\n",
      "120\n"
     ]
    }
   ],
   "source": [
    "# Approach: 1\n",
    "n=int(input(\"Enter a number: \"))\n",
    "fact=1\n",
    "for i in range(1,n+1):\n",
    "    fact*=i\n",
    "    #print(fact)\n",
    "print(fact)"
   ]
  },
  {
   "cell_type": "code",
   "execution_count": 16,
   "id": "aada67e6",
   "metadata": {},
   "outputs": [
    {
     "name": "stdout",
     "output_type": "stream",
     "text": [
      "Enter a number: 5\n",
      "120\n"
     ]
    }
   ],
   "source": [
    "# Approach: 2\n",
    "n=int(input(\"Enter a number: \"))\n",
    "fact=1\n",
    "while n>0:\n",
    "    fact*=n\n",
    "    n=n-1\n",
    "print(fact)"
   ]
  },
  {
   "cell_type": "markdown",
   "id": "d7e34a03",
   "metadata": {},
   "source": [
    "2.Write a Python Program to Display the multiplication Table?"
   ]
  },
  {
   "cell_type": "code",
   "execution_count": 18,
   "id": "8e7b4dc5",
   "metadata": {},
   "outputs": [
    {
     "name": "stdout",
     "output_type": "stream",
     "text": [
      "Enter a number: 5\n",
      "5 X 10 : 50\n",
      "5 X 9 : 45\n",
      "5 X 8 : 40\n",
      "5 X 7 : 35\n",
      "5 X 6 : 30\n",
      "5 X 5 : 25\n",
      "5 X 4 : 20\n",
      "5 X 3 : 15\n",
      "5 X 2 : 10\n",
      "5 X 1 : 5\n",
      "5 X 0 : 0\n"
     ]
    }
   ],
   "source": [
    "n=int(input(\"Enter a number: \"))\n",
    "mult=10\n",
    "while mult>=0:\n",
    "    value=n*mult\n",
    "    print(f\"{n} X {mult} : {value}\")\n",
    "    mult-=1"
   ]
  },
  {
   "cell_type": "markdown",
   "id": "8bcfece0",
   "metadata": {},
   "source": [
    "3. Write a Python Program to Print the Fibonacci sequence?\n",
    "- fib(n) = 1,1,2,3,5, ..., n"
   ]
  },
  {
   "cell_type": "code",
   "execution_count": 26,
   "id": "628dc6b3",
   "metadata": {},
   "outputs": [
    {
     "name": "stdout",
     "output_type": "stream",
     "text": [
      "Enter a number: 9\n",
      "34\n"
     ]
    }
   ],
   "source": [
    "n=int(input(\"Enter a number: \"))\n",
    "\n",
    "if n==0:\n",
    "    print(n)\n",
    "else:\n",
    "    i=1\n",
    "    f1=1\n",
    "    f2=1\n",
    "    while i<=n-2:\n",
    "        f3=f1+f2\n",
    "        f1=f2\n",
    "        f2=f3\n",
    "        i=i+1\n",
    "    print(f3)"
   ]
  },
  {
   "cell_type": "markdown",
   "id": "61b9af10",
   "metadata": {},
   "source": [
    "4.\tWrite a Python Program to Check Armstrong Number?"
   ]
  },
  {
   "cell_type": "code",
   "execution_count": 36,
   "id": "685ca379",
   "metadata": {},
   "outputs": [
    {
     "name": "stdout",
     "output_type": "stream",
     "text": [
      "Enter a number: 454\n",
      "Not Armstrong number\n"
     ]
    }
   ],
   "source": [
    "n=int(input(\"Enter a number: \"))\n",
    "num=n\n",
    "sum_=0\n",
    "while num>0:\n",
    "    digit = num%10\n",
    "    sum_ +=digit**3 \n",
    "    num=num//10\n",
    "if (sum_==n):\n",
    "    print(\"Armstrong number\")\n",
    "else:\n",
    "    print(\"Not Armstrong number\")"
   ]
  },
  {
   "cell_type": "markdown",
   "id": "012551e1",
   "metadata": {},
   "source": [
    "5.\tWrite a Python Program to Find Armstrong Number in an Interval?"
   ]
  },
  {
   "cell_type": "code",
   "execution_count": 43,
   "id": "b1d96440",
   "metadata": {},
   "outputs": [
    {
     "name": "stdout",
     "output_type": "stream",
     "text": [
      "Enter the interval with space separator: 1 1000\n",
      "1\n",
      "153\n",
      "370\n",
      "371\n",
      "407\n"
     ]
    }
   ],
   "source": [
    "# check arm strong number\n",
    "def checkArmstrong(n):\n",
    "    num=n\n",
    "    sum_=0\n",
    "    while num>0:\n",
    "        digit = num%10\n",
    "        sum_ +=digit**3 \n",
    "        num=num//10\n",
    "    if (sum_==n):\n",
    "        return True\n",
    "    else:\n",
    "        return False\n",
    "    \n",
    "lowerInterval,UpperInterval = input(\"Enter the interval with space separator: \").split()\n",
    "li,ui=int(lowerInterval),int(UpperInterval)\n",
    "\n",
    "def printArmstrongNumbers(li,ui):\n",
    "    \n",
    "    if li<ui:\n",
    "        for i in range(li,ui+1):\n",
    "            if (checkArmstrong(i)):\n",
    "                print(i)\n",
    "    else:\n",
    "        print(\"Input the correct range\")\n",
    "printArmstrongNumbers(li,ui)               "
   ]
  },
  {
   "cell_type": "markdown",
   "id": "dfac0a6d",
   "metadata": {},
   "source": [
    "6.\tWrite a Python Program to Find the Sum of Natural Numbers?"
   ]
  },
  {
   "cell_type": "code",
   "execution_count": 49,
   "id": "82c1f349",
   "metadata": {},
   "outputs": [
    {
     "name": "stdout",
     "output_type": "stream",
     "text": [
      "Enter a number: 5\n"
     ]
    },
    {
     "data": {
      "text/plain": [
       "15"
      ]
     },
     "execution_count": 49,
     "metadata": {},
     "output_type": "execute_result"
    }
   ],
   "source": [
    "n=int(input(\"Enter a number: \"))\n",
    "def sum_natural(n):\n",
    "    if n<0:\n",
    "        print('Not Natural number')\n",
    "    else:\n",
    "        return (n*(n+1))//2\n",
    "sum_natural(n)"
   ]
  },
  {
   "cell_type": "code",
   "execution_count": null,
   "id": "893657c9",
   "metadata": {},
   "outputs": [],
   "source": []
  }
 ],
 "metadata": {
  "kernelspec": {
   "display_name": "Python 3 (ipykernel)",
   "language": "python",
   "name": "python3"
  },
  "language_info": {
   "codemirror_mode": {
    "name": "ipython",
    "version": 3
   },
   "file_extension": ".py",
   "mimetype": "text/x-python",
   "name": "python",
   "nbconvert_exporter": "python",
   "pygments_lexer": "ipython3",
   "version": "3.9.13"
  }
 },
 "nbformat": 4,
 "nbformat_minor": 5
}
